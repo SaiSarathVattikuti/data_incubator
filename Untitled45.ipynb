{
 "cells": [
  {
   "cell_type": "code",
   "execution_count": 5,
   "metadata": {},
   "outputs": [],
   "source": [
    "import pandas as pd\n",
    "import numpy as np\n",
    "import seaborn as sns\n",
    "import matplotlib.pyplot as plt"
   ]
  },
  {
   "cell_type": "code",
   "execution_count": 3,
   "metadata": {},
   "outputs": [],
   "source": [
    "df=pd.read_csv('C:/Users/Sarath Vattikuti/Downloads/trip_sample.csv')"
   ]
  },
  {
   "cell_type": "code",
   "execution_count": 4,
   "metadata": {},
   "outputs": [
    {
     "data": {
      "text/html": [
       "<div>\n",
       "<style scoped>\n",
       "    .dataframe tbody tr th:only-of-type {\n",
       "        vertical-align: middle;\n",
       "    }\n",
       "\n",
       "    .dataframe tbody tr th {\n",
       "        vertical-align: top;\n",
       "    }\n",
       "\n",
       "    .dataframe thead th {\n",
       "        text-align: right;\n",
       "    }\n",
       "</style>\n",
       "<table border=\"1\" class=\"dataframe\">\n",
       "  <thead>\n",
       "    <tr style=\"text-align: right;\">\n",
       "      <th></th>\n",
       "      <th>tstime</th>\n",
       "      <th>tetime</th>\n",
       "      <th>maxSpeed</th>\n",
       "      <th>averageSpeed</th>\n",
       "      <th>speedingDuration</th>\n",
       "      <th>kmTraveled</th>\n",
       "      <th>tsLat</th>\n",
       "      <th>tsLong</th>\n",
       "    </tr>\n",
       "  </thead>\n",
       "  <tbody>\n",
       "    <tr>\n",
       "      <th>0</th>\n",
       "      <td>2013-08-25 14:20:59</td>\n",
       "      <td>2013-08-25 14:23:32</td>\n",
       "      <td>20</td>\n",
       "      <td>6</td>\n",
       "      <td>0</td>\n",
       "      <td>0.3</td>\n",
       "      <td>29.974457</td>\n",
       "      <td>-95.468449</td>\n",
       "    </tr>\n",
       "    <tr>\n",
       "      <th>1</th>\n",
       "      <td>2013-08-25 14:41:12</td>\n",
       "      <td>2013-08-25 14:52:33</td>\n",
       "      <td>89</td>\n",
       "      <td>26</td>\n",
       "      <td>120</td>\n",
       "      <td>5.1</td>\n",
       "      <td>29.974367</td>\n",
       "      <td>-95.468426</td>\n",
       "    </tr>\n",
       "    <tr>\n",
       "      <th>2</th>\n",
       "      <td>2013-08-25 19:25:16</td>\n",
       "      <td>2013-08-25 19:38:22</td>\n",
       "      <td>94</td>\n",
       "      <td>37</td>\n",
       "      <td>240</td>\n",
       "      <td>8.3</td>\n",
       "      <td>29.949563</td>\n",
       "      <td>-95.473736</td>\n",
       "    </tr>\n",
       "    <tr>\n",
       "      <th>3</th>\n",
       "      <td>2013-08-26 12:50:08</td>\n",
       "      <td>2013-08-26 13:12:53</td>\n",
       "      <td>99</td>\n",
       "      <td>37</td>\n",
       "      <td>420</td>\n",
       "      <td>14.3</td>\n",
       "      <td>29.949568</td>\n",
       "      <td>-95.473809</td>\n",
       "    </tr>\n",
       "    <tr>\n",
       "      <th>4</th>\n",
       "      <td>2013-08-26 13:14:45</td>\n",
       "      <td>2013-08-26 13:16:31</td>\n",
       "      <td>29</td>\n",
       "      <td>10</td>\n",
       "      <td>0</td>\n",
       "      <td>0.3</td>\n",
       "      <td>29.940434</td>\n",
       "      <td>-95.367661</td>\n",
       "    </tr>\n",
       "  </tbody>\n",
       "</table>\n",
       "</div>"
      ],
      "text/plain": [
       "                tstime               tetime  maxSpeed  averageSpeed  \\\n",
       "0  2013-08-25 14:20:59  2013-08-25 14:23:32        20             6   \n",
       "1  2013-08-25 14:41:12  2013-08-25 14:52:33        89            26   \n",
       "2  2013-08-25 19:25:16  2013-08-25 19:38:22        94            37   \n",
       "3  2013-08-26 12:50:08  2013-08-26 13:12:53        99            37   \n",
       "4  2013-08-26 13:14:45  2013-08-26 13:16:31        29            10   \n",
       "\n",
       "   speedingDuration  kmTraveled      tsLat     tsLong  \n",
       "0                 0         0.3  29.974457 -95.468449  \n",
       "1               120         5.1  29.974367 -95.468426  \n",
       "2               240         8.3  29.949563 -95.473736  \n",
       "3               420        14.3  29.949568 -95.473809  \n",
       "4                 0         0.3  29.940434 -95.367661  "
      ]
     },
     "execution_count": 4,
     "metadata": {},
     "output_type": "execute_result"
    }
   ],
   "source": [
    "df.head()"
   ]
  },
  {
   "cell_type": "code",
   "execution_count": 6,
   "metadata": {},
   "outputs": [],
   "source": [
    "def plotting(field):\n",
    "    plt.figure(figsize=(8,6))\n",
    "    sns.countplot(field.sort_values())\n",
    "    loc,labels=plt.xticks()\n",
    "    plt.xticks(fontsize=12,rotation=90)\n",
    "    plt.show()"
   ]
  },
  {
   "cell_type": "code",
   "execution_count": null,
   "metadata": {},
   "outputs": [],
   "source": []
  },
  {
   "cell_type": "code",
   "execution_count": 20,
   "metadata": {},
   "outputs": [
    {
     "data": {
      "text/plain": [
       "tstime                       object\n",
       "tetime                       object\n",
       "maxSpeed                      int64\n",
       "averageSpeed                  int64\n",
       "speedingDuration              int64\n",
       "kmTraveled                  float64\n",
       "tsLat                       float64\n",
       "tsLong                      float64\n",
       "time                 datetime64[ns]\n",
       "start_time           datetime64[ns]\n",
       "end_time             datetime64[ns]\n",
       "travel_time         timedelta64[ns]\n",
       "dtype: object"
      ]
     },
     "execution_count": 20,
     "metadata": {},
     "output_type": "execute_result"
    }
   ],
   "source": [
    "df.dtypes"
   ]
  },
  {
   "cell_type": "code",
   "execution_count": 9,
   "metadata": {},
   "outputs": [],
   "source": [
    "df['time']=df['tstime'].astype('datetime64[ns]')"
   ]
  },
  {
   "cell_type": "code",
   "execution_count": 51,
   "metadata": {},
   "outputs": [],
   "source": [
    "df['day_of_week']=df.time.dt.dayofweek"
   ]
  },
  {
   "cell_type": "code",
   "execution_count": 12,
   "metadata": {},
   "outputs": [
    {
     "data": {
      "image/png": "[encoded data removed]",
      "text/plain": [
       "<Figure size 576x432 with 1 Axes>"
      ]
     },
     "metadata": {
      "needs_background": "light"
     },
     "output_type": "display_data"
    }
   ],
   "source": [
    "plotting(df.time.dt.dayofweek)\n"
   ]
  },
  {
   "cell_type": "code",
   "execution_count": 13,
   "metadata": {},
   "outputs": [],
   "source": [
    "df['start_time']=df['tstime'].astype('datetime64[ns]')"
   ]
  },
  {
   "cell_type": "code",
   "execution_count": 14,
   "metadata": {},
   "outputs": [],
   "source": [
    "df['end_time']=df['tetime'].astype('datetime64[ns]')"
   ]
  },
  {
   "cell_type": "code",
   "execution_count": 17,
   "metadata": {},
   "outputs": [],
   "source": [
    "df['travel_time']=df['end_time']-df['start_time']"
   ]
  },
  {
   "cell_type": "code",
   "execution_count": 25,
   "metadata": {},
   "outputs": [],
   "source": [
    "def time_convert(x):\n",
    "    temp=x.split(\" \")[2]\n",
    "    temp_1=temp.split(\".\")[0]\n",
    "    times = temp_1.split(':')\n",
    "    return (60*int(times[0])+60*int(times[1]))+int(times[2])"
   ]
  },
  {
   "cell_type": "code",
   "execution_count": 22,
   "metadata": {},
   "outputs": [],
   "source": [
    "df['travel_time']=df['travel_time'].astype('str')"
   ]
  },
  {
   "cell_type": "code",
   "execution_count": 24,
   "metadata": {},
   "outputs": [
    {
     "data": {
      "text/plain": [
       "0    0 days 00:02:33.000000000\n",
       "1    0 days 00:11:21.000000000\n",
       "2    0 days 00:13:06.000000000\n",
       "3    0 days 00:22:45.000000000\n",
       "4    0 days 00:01:46.000000000\n",
       "Name: travel_time, dtype: object"
      ]
     },
     "execution_count": 24,
     "metadata": {},
     "output_type": "execute_result"
    }
   ],
   "source": [
    "df['travel_time'].head()"
   ]
  },
  {
   "cell_type": "code",
   "execution_count": 26,
   "metadata": {},
   "outputs": [],
   "source": [
    "df['travel_time_in_secs']=df['travel_time'].apply(time_convert)"
   ]
  },
  {
   "cell_type": "code",
   "execution_count": 53,
   "metadata": {
    "scrolled": true
   },
   "outputs": [
    {
     "data": {
      "text/plain": [
       "<matplotlib.axes._subplots.AxesSubplot at 0x130134eb0b8>"
      ]
     },
     "execution_count": 53,
     "metadata": {},
     "output_type": "execute_result"
    },
    {
     "data": {
      "image/png": "[encoded data removed]",
      "text/plain": [
       "<Figure size 432x288 with 1 Axes>"
      ]
     },
     "metadata": {
      "needs_background": "light"
     },
     "output_type": "display_data"
    }
   ],
   "source": [
    "df.groupby(['day_of_week'],as_index=False).agg({\"travel_time\":\"count\"}).unstack().plot(kind='bar')"
   ]
  },
  {
   "cell_type": "code",
   "execution_count": 56,
   "metadata": {},
   "outputs": [
    {
     "data": {
      "text/plain": [
       "<matplotlib.axes._subplots.AxesSubplot at 0x13011d86438>"
      ]
     },
     "execution_count": 56,
     "metadata": {},
     "output_type": "execute_result"
    },
    {
     "data": {
      "image/png": "[encoded data removed]",
      "text/plain": [
       "<Figure size 432x288 with 1 Axes>"
      ]
     },
     "metadata": {
      "needs_background": "light"
     },
     "output_type": "display_data"
    }
   ],
   "source": [
    "df.groupby(['day_of_week'],as_index=False).agg({\"%_of_speeding_time\":\"count\"}).unstack().plot(kind='bar')"
   ]
  },
  {
   "cell_type": "code",
   "execution_count": 28,
   "metadata": {
    "scrolled": true
   },
   "outputs": [
    {
     "data": {
      "text/plain": [
       "0     153\n",
       "1     681\n",
       "2     786\n",
       "3    1365\n",
       "4     106\n",
       "Name: travel_time_in_secs, dtype: int64"
      ]
     },
     "execution_count": 28,
     "metadata": {},
     "output_type": "execute_result"
    }
   ],
   "source": [
    "df['travel_time_in_secs'].head()"
   ]
  },
  {
   "cell_type": "code",
   "execution_count": 29,
   "metadata": {},
   "outputs": [],
   "source": [
    "df['travel_time_in_secs']=df['travel_time_in_secs'].astype('int')"
   ]
  },
  {
   "cell_type": "code",
   "execution_count": 32,
   "metadata": {},
   "outputs": [],
   "source": [
    "df['%_of_speeding_time']=(df['speedingDuration']/df['travel_time_in_secs'])*100"
   ]
  },
  {
   "cell_type": "markdown",
   "metadata": {},
   "source": [
    "# 2"
   ]
  },
  {
   "cell_type": "code",
   "execution_count": 46,
   "metadata": {},
   "outputs": [
    {
     "data": {
      "text/plain": [
       "0        0\n",
       "1       17\n",
       "2       30\n",
       "3       30\n",
       "4        0\n",
       "5        0\n",
       "6       25\n",
       "7        0\n",
       "8       48\n",
       "9       38\n",
       "10     234\n",
       "11     838\n",
       "12       0\n",
       "13      35\n",
       "14      35\n",
       "15      24\n",
       "16       0\n",
       "17       0\n",
       "18      31\n",
       "19      54\n",
       "20       0\n",
       "21       0\n",
       "22      51\n",
       "23      34\n",
       "24      38\n",
       "25      17\n",
       "26      30\n",
       "27      32\n",
       "28      36\n",
       "29      33\n",
       "      ... \n",
       "775     32\n",
       "776     66\n",
       "777     22\n",
       "778      0\n",
       "779      0\n",
       "780      0\n",
       "781      0\n",
       "782      0\n",
       "783     49\n",
       "784     96\n",
       "785      6\n",
       "786      0\n",
       "787      0\n",
       "788      0\n",
       "789     41\n",
       "790     21\n",
       "791      0\n",
       "792     32\n",
       "793     41\n",
       "794     64\n",
       "795      0\n",
       "796     50\n",
       "797      8\n",
       "798      0\n",
       "799      0\n",
       "800      0\n",
       "801     18\n",
       "802      0\n",
       "803      0\n",
       "804      7\n",
       "Name: %_of_speeding_time, Length: 805, dtype: int32"
      ]
     },
     "execution_count": 46,
     "metadata": {},
     "output_type": "execute_result"
    }
   ],
   "source": [
    "df['%_of_speeding_time']"
   ]
  },
  {
   "cell_type": "code",
   "execution_count": 40,
   "metadata": {},
   "outputs": [],
   "source": [
    "df['%_of_speeding_time']=df['%_of_speeding_time'].astype('int')"
   ]
  },
  {
   "cell_type": "code",
   "execution_count": 45,
   "metadata": {},
   "outputs": [
    {
     "data": {
      "image/png": "[encoded data removed]",
      "text/plain": [
       "<Figure size 432x288 with 1 Axes>"
      ]
     },
     "metadata": {
      "needs_background": "light"
     },
     "output_type": "display_data"
    }
   ],
   "source": [
    "plt.hist(df['%_of_speeding_time'])\n",
    "plt.ylabel('No of times')\n",
    "plt.show()"
   ]
  },
  {
   "cell_type": "code",
   "execution_count": null,
   "metadata": {},
   "outputs": [],
   "source": []
  },
  {
   "cell_type": "code",
   "execution_count": null,
   "metadata": {},
   "outputs": [],
   "source": []
  }
 ],
 "metadata": {
  "kernelspec": {
   "display_name": "Python 3",
   "language": "python",
   "name": "python3"
  },
  "language_info": {
   "codemirror_mode": {
    "name": "ipython",
    "version": 3
   },
   "file_extension": ".py",
   "mimetype": "text/x-python",
   "name": "python",
   "nbconvert_exporter": "python",
   "pygments_lexer": "ipython3",
   "version": "3.7.1"
  }
 },
 "nbformat": 4,
 "nbformat_minor": 2
}
